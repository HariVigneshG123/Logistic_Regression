{
 "cells": [
  {
   "cell_type": "code",
   "execution_count": 1,
   "id": "e0d3778b",
   "metadata": {},
   "outputs": [],
   "source": [
    "import pandas as pd\n",
    "import numpy as np\n",
    "import statistics\n",
    "import math \n",
    "from math import exp\n",
    "from mpmath import mp"
   ]
  },
  {
   "cell_type": "code",
   "execution_count": 2,
   "id": "81c68e4b",
   "metadata": {},
   "outputs": [],
   "source": [
    "path = \"/Users/harivigneshgomathi/Downloads/\"\n",
    "train_data = pd.read_csv(path+\"1644871288_9762487_cleveland-train.csv\")\n",
    "test_data = pd.read_csv(path+\"1644871288_9775174_cleveland-test.csv\")"
   ]
  },
  {
   "cell_type": "code",
   "execution_count": 3,
   "id": "fe14694e",
   "metadata": {},
   "outputs": [],
   "source": [
    "train_data_arr = train_data.values\n",
    "test_data_arr = test_data.values"
   ]
  },
  {
   "cell_type": "code",
   "execution_count": 4,
   "id": "4eeb80cc",
   "metadata": {},
   "outputs": [],
   "source": [
    "def meanandStandardDev(dataset):\n",
    "    mean_std = []\n",
    "    for i in range(len(dataset[0])):\n",
    "        col_val = [j[i] for j in dataset]\n",
    "        mean = np.average(col_val)\n",
    "        std = np.std(col_val)\n",
    "        mean_std.append([mean, std])\n",
    "    return mean_std"
   ]
  },
  {
   "cell_type": "code",
   "execution_count": 5,
   "id": "2a591ac3",
   "metadata": {},
   "outputs": [],
   "source": [
    "def normalize(dataset,meanstd):\n",
    "    for i in range(len(dataset)):\n",
    "        for j in range(len(dataset[0])):\n",
    "            n = dataset[i][j] - meanstd[j][0]\n",
    "            d = meanstd[j][1]\n",
    "            dataset[i][j] = n/d\n",
    "    return dataset"
   ]
  },
  {
   "cell_type": "code",
   "execution_count": 6,
   "id": "1ae91fb0",
   "metadata": {},
   "outputs": [],
   "source": [
    "def predict(data,weight):\n",
    "    z = weight[0]\n",
    "    for i in range(len(data)-1):\n",
    "        z += weight[i + 1] * data[i]\n",
    "    return 1 / (1 + np.exp(-z))"
   ]
  },
  {
   "cell_type": "code",
   "execution_count": 7,
   "id": "7a942b03",
   "metadata": {},
   "outputs": [],
   "source": [
    "def cross_ent_error(dataset,weight):\n",
    "    error = 0\n",
    "    for tuple in dataset:\n",
    "        pred = predict(tuple,weight)\n",
    "        label = tuple[-1]\n",
    "        error += -(label*np.log(pred))+(-(1-label)*np.log(1-pred))\n",
    "    cross_ent_err = error/len(dataset)\n",
    "    return cross_ent_err"
   ]
  },
  {
   "cell_type": "code",
   "execution_count": 8,
   "id": "40f6cba9",
   "metadata": {},
   "outputs": [],
   "source": [
    "def gradient_descent(train_data, learning_rate, iteration):\n",
    "    weight = [0.0 for i in range(len(train_data[0]))]\n",
    "    ch_weight = [0.0 for i in range(len(train_data[0]))]\n",
    "    crEnt_err = []\n",
    "    for i in range(iteration):\n",
    "        for tuple in train_data:\n",
    "            pred = predict(tuple,weight)\n",
    "            ch_weight[0] = ch_weight[0] + (tuple[-1] - pred)*pred*(1 - pred)\n",
    "            for i in range(len(tuple)-1):\n",
    "                ch_weight[i+1] = ch_weight[i+1] + ((tuple[-1] - pred)*pred*(1 - pred)*tuple[i])\n",
    "        for i in range(len(tuple)-1):\n",
    "            weight[i] = weight[i] - (learning_rate*-2*ch_weight[i])\n",
    "        crEnt_err.append(cross_ent_error(train_data,weight))\n",
    "        \n",
    "    return crEnt_err,weight "
   ]
  },
  {
   "cell_type": "code",
   "execution_count": 9,
   "id": "9477c385",
   "metadata": {},
   "outputs": [],
   "source": [
    "def logistic_regression(train_data,test_data,learning_rate,iteration):\n",
    "    pred = list()\n",
    "    cross_ent_error,weight = gradient_descent(train_data,learning_rate,iteration)\n",
    "    for tuple in test_data:\n",
    "        z=predict(tuple,weight)\n",
    "        pred.append(z)\n",
    "    return pred,weight,cross_ent_error"
   ]
  },
  {
   "cell_type": "code",
   "execution_count": 10,
   "id": "1a7db786",
   "metadata": {},
   "outputs": [],
   "source": [
    "def classification_error(train_data,weight):\n",
    "    pred_Cl_err = list()\n",
    "    for tuple in train_data:\n",
    "        z=predict(tuple,weight)\n",
    "        pred_Cl_err.append(z)\n",
    "    pred_Cl_err = [1 if i >0.5 else -1 for i in pred_Cl_err]\n",
    "    count = 0\n",
    "    return pred_Cl_err"
   ]
  },
  {
   "cell_type": "code",
   "execution_count": 11,
   "id": "a5e1df34",
   "metadata": {},
   "outputs": [],
   "source": [
    "train_minmax = meanandStandardDev(train_data_arr)\n",
    "test_minmax = meanandStandardDev(test_data_arr)\n",
    "train_data_arr = normalize(train_data_arr,train_minmax)\n",
    "test_data_arr = normalize(test_data_arr,test_minmax)"
   ]
  },
  {
   "cell_type": "code",
   "execution_count": 12,
   "id": "cfaed85c",
   "metadata": {},
   "outputs": [],
   "source": [
    "eta = 10**-5"
   ]
  },
  {
   "cell_type": "code",
   "execution_count": 13,
   "id": "d3271cc4",
   "metadata": {
    "scrolled": true
   },
   "outputs": [
    {
     "name": "stderr",
     "output_type": "stream",
     "text": [
      "/var/folders/4_/2p34smp57y1gjj525ytht7dr0000gn/T/ipykernel_6096/1012866973.py:6: RuntimeWarning: divide by zero encountered in log\n",
      "  error += -(label*np.log(pred))+(-(1-label)*np.log(1-pred))\n",
      "/var/folders/4_/2p34smp57y1gjj525ytht7dr0000gn/T/ipykernel_6096/1012866973.py:6: RuntimeWarning: invalid value encountered in double_scalars\n",
      "  error += -(label*np.log(pred))+(-(1-label)*np.log(1-pred))\n",
      "/var/folders/4_/2p34smp57y1gjj525ytht7dr0000gn/T/ipykernel_6096/62958044.py:5: RuntimeWarning: overflow encountered in exp\n",
      "  return 1 / (1 + np.exp(-z))\n"
     ]
    }
   ],
   "source": [
    "pred,weight,ce_errors = logistic_regression(train_data_arr,test_data_arr,eta,10000)"
   ]
  },
  {
   "cell_type": "code",
   "execution_count": 14,
   "id": "fddc8e4f",
   "metadata": {},
   "outputs": [],
   "source": [
    "pred = [1 if i >0.5 else -1 for i in pred]"
   ]
  },
  {
   "cell_type": "code",
   "execution_count": 15,
   "id": "22e4ebf8",
   "metadata": {},
   "outputs": [
    {
     "name": "stderr",
     "output_type": "stream",
     "text": [
      "/var/folders/4_/2p34smp57y1gjj525ytht7dr0000gn/T/ipykernel_6096/62958044.py:5: RuntimeWarning: overflow encountered in exp\n",
      "  return 1 / (1 + np.exp(-z))\n"
     ]
    }
   ],
   "source": [
    "#Testing for classification error using train data\n",
    "train_pred = classification_error(train_data_arr,weight)"
   ]
  },
  {
   "cell_type": "code",
   "execution_count": 16,
   "id": "9830f76a",
   "metadata": {},
   "outputs": [],
   "source": [
    "# Calculating the classification accuracy\n",
    "count = 0\n",
    "for i in range(len(train_pred)):\n",
    "    if(train_pred[i] == train_data.iloc[i,-1]):\n",
    "        count+=1\n",
    "accuracy = count/len(train_pred)\n",
    "classification_error = 1 - accuracy"
   ]
  },
  {
   "cell_type": "code",
   "execution_count": 17,
   "id": "7a36e6b4",
   "metadata": {},
   "outputs": [
    {
     "data": {
      "text/plain": [
       "0.16447368421052633"
      ]
     },
     "execution_count": 17,
     "metadata": {},
     "output_type": "execute_result"
    }
   ],
   "source": [
    "classification_error"
   ]
  },
  {
   "cell_type": "code",
   "execution_count": 18,
   "id": "946e6196",
   "metadata": {},
   "outputs": [],
   "source": [
    "pred_dataFrame = pd.DataFrame(pred)\n",
    "pred_dataFrame.to_csv(path+\"Log_Reg_OP_predictions_v2.dat\", index=False, header=None)"
   ]
  },
  {
   "cell_type": "code",
   "execution_count": 19,
   "id": "a56cd126",
   "metadata": {},
   "outputs": [
    {
     "name": "stderr",
     "output_type": "stream",
     "text": [
      "/Users/harivigneshgomathi/anaconda3/lib/python3.9/site-packages/sklearn/linear_model/_logistic.py:763: ConvergenceWarning: lbfgs failed to converge (status=1):\n",
      "STOP: TOTAL NO. of ITERATIONS REACHED LIMIT.\n",
      "\n",
      "Increase the number of iterations (max_iter) or scale the data as shown in:\n",
      "    https://scikit-learn.org/stable/modules/preprocessing.html\n",
      "Please also refer to the documentation for alternative solver options:\n",
      "    https://scikit-learn.org/stable/modules/linear_model.html#logistic-regression\n",
      "  n_iter_i = _check_optimize_result(\n"
     ]
    }
   ],
   "source": [
    "# Prediction using Scikit library.\n",
    "from sklearn.linear_model import LogisticRegression\n",
    "lr_model = LogisticRegression()\n",
    "lr_model.fit(train_data.iloc[:,0:13].values,train_data.iloc[:,-1])\n",
    "y_pred_sk = lr_model.predict(test_data_arr)\n",
    "y_pred_sk_train = lr_model.predict(train_data.iloc[:,0:13].values)"
   ]
  },
  {
   "cell_type": "code",
   "execution_count": 20,
   "id": "197feb60",
   "metadata": {},
   "outputs": [],
   "source": [
    "pred_dataFrame = pd.DataFrame(y_pred_sk)\n",
    "pred_dataFrame.to_csv(path+\"Log_Reg_OP_predictions_lib.dat\", index=False, header=None)"
   ]
  },
  {
   "cell_type": "code",
   "execution_count": 21,
   "id": "52a6e911",
   "metadata": {},
   "outputs": [],
   "source": [
    "c = 0\n",
    "for i in range(len(y_pred_sk)):\n",
    "    if(y_pred_sk[i] == train_data.iloc[i,-1]):\n",
    "        c+=1"
   ]
  },
  {
   "cell_type": "code",
   "execution_count": 22,
   "id": "9e8e5fc5",
   "metadata": {},
   "outputs": [],
   "source": [
    "d = c/len(y_pred_sk)"
   ]
  },
  {
   "cell_type": "code",
   "execution_count": 23,
   "id": "701506fe",
   "metadata": {},
   "outputs": [
    {
     "data": {
      "text/plain": [
       "0.4896551724137931"
      ]
     },
     "execution_count": 23,
     "metadata": {},
     "output_type": "execute_result"
    }
   ],
   "source": [
    "#Classification on train dataset using logistic regression output\n",
    "1-d"
   ]
  }
 ],
 "metadata": {
  "kernelspec": {
   "display_name": "Python 3 (ipykernel)",
   "language": "python",
   "name": "python3"
  },
  "language_info": {
   "codemirror_mode": {
    "name": "ipython",
    "version": 3
   },
   "file_extension": ".py",
   "mimetype": "text/x-python",
   "name": "python",
   "nbconvert_exporter": "python",
   "pygments_lexer": "ipython3",
   "version": "3.9.7"
  }
 },
 "nbformat": 4,
 "nbformat_minor": 5
}
